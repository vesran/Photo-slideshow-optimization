{
 "cells": [
  {
   "cell_type": "code",
   "execution_count": 2,
   "id": "422d28ed-bc9b-4454-8448-94c1c7455af7",
   "metadata": {},
   "outputs": [],
   "source": [
    "%load_ext autoreload\n",
    "%autoreload 2"
   ]
  },
  {
   "cell_type": "code",
   "execution_count": 3,
   "id": "2f37cdd0-7536-46d8-80a5-2edfeb2c614d",
   "metadata": {},
   "outputs": [],
   "source": [
    "import sys\n",
    "sys.path.append(\"../\") "
   ]
  },
  {
   "cell_type": "code",
   "execution_count": 4,
   "id": "4a6158fd-b4ef-4f6b-b964-a53a2218aed3",
   "metadata": {},
   "outputs": [],
   "source": [
    "from algos.nested import *\n",
    "from algos.greedy import *\n",
    "from algos.random_order import *\n",
    "from algos.uct import *\n",
    "from utils import *\n",
    "from base import *\n",
    "\n",
    "import matplotlib.pyplot as plt\n",
    "import seaborn as sns\n",
    "import pandas as pd\n",
    "import numpy as np"
   ]
  },
  {
   "cell_type": "code",
   "execution_count": 5,
   "id": "99ae8c89-e999-4a27-8fa6-f7b116c0ecc9",
   "metadata": {},
   "outputs": [],
   "source": [
    "filename = \"../data/c_memorable_moments.txt\""
   ]
  },
  {
   "cell_type": "code",
   "execution_count": 77,
   "id": "9d0fd854-482c-4e15-9d38-1da2b956f260",
   "metadata": {
    "tags": []
   },
   "outputs": [
    {
     "name": "stdout",
     "output_type": "stream",
     "text": [
      "1000 photos caught.\n",
      "func:'form_slides' took: 0.0000 sec\n",
      "Num slides : 750\n",
      "Score : 20\n"
     ]
    }
   ],
   "source": [
    "sol = UCT(filename, max_slides=50, max_candidates=3)\n",
    "slideshow = sol.run(30, 0.01)"
   ]
  },
  {
   "cell_type": "code",
   "execution_count": 80,
   "id": "b8d6aa59-4985-4bb1-a7cc-1414645de2b5",
   "metadata": {
    "collapsed": true,
    "jupyter": {
     "outputs_hidden": true
    },
    "tags": []
   },
   "outputs": [
    {
     "name": "stdout",
     "output_type": "stream",
     "text": [
      "1000 photos caught.\n",
      "func:'form_slides' took: 0.0021 sec\n",
      "Num slides : 750\n",
      "func:'mean_scores' took: 23.2791 sec\n",
      "2.0 18.4\n",
      "func:'mean_scores' took: 20.6063 sec\n",
      "2.2 17.1\n",
      "func:'mean_scores' took: 21.3014 sec\n",
      "2.4000000000000004 18.1\n",
      "func:'mean_scores' took: 20.2434 sec\n",
      "2.6000000000000005 18.2\n",
      "func:'mean_scores' took: 23.2308 sec\n",
      "2.8000000000000007 18.8\n",
      "func:'mean_scores' took: 27.4917 sec\n",
      "3.000000000000001 18.4\n",
      "func:'mean_scores' took: 27.7517 sec\n",
      "3.200000000000001 19.8\n",
      "func:'mean_scores' took: 20.1111 sec\n",
      "3.4000000000000012 18.4\n",
      "func:'mean_scores' took: 20.2360 sec\n",
      "3.6000000000000014 19.4\n",
      "func:'mean_scores' took: 20.8163 sec\n",
      "3.8000000000000016 16.7\n",
      "func:'mean_scores' took: 19.5209 sec\n",
      "4.000000000000002 18.2\n",
      "func:'mean_scores' took: 20.5564 sec\n",
      "4.200000000000002 18.0\n",
      "func:'mean_scores' took: 26.4710 sec\n",
      "4.400000000000002 18.3\n",
      "func:'mean_scores' took: 22.8309 sec\n",
      "4.600000000000002 17.1\n",
      "func:'mean_scores' took: 22.8465 sec\n",
      "4.8000000000000025 17.7\n"
     ]
    },
    {
     "name": "stderr",
     "output_type": "stream",
     "text": [
      "<ipython-input-80-beb996eaed46>:21: VisibleDeprecationWarning: Creating an ndarray from ragged nested sequences (which is a list-or-tuple of lists-or-tuples-or ndarrays with different lengths or shapes) is deprecated. If you meant to do this, you must specify 'dtype=object' when creating the ndarray\n",
      "  hist = np.array(hist)\n"
     ]
    }
   ],
   "source": [
    "def get_score(ss_idx):\n",
    "    ss = Slideshow()\n",
    "    [ss.add_right(SLIDES[s]) for s in ss_idx]\n",
    "    return sum(ss.scores)\n",
    "\n",
    "@timeit\n",
    "def mean_scores(c, sol):\n",
    "    scores = []\n",
    "    for i in range(10):\n",
    "        ss = sol.run(30, c, verbose=0)\n",
    "        score = np.sum(ss.scores)\n",
    "        scores.append(score)\n",
    "    return np.mean(scores), scores\n",
    "\n",
    "sol = UCT(filename, max_slides=50, max_candidates=3)\n",
    "hist = []\n",
    "for c in np.arange(2, 5, 0.2):\n",
    "    score, h = mean_scores(0.1, sol)\n",
    "    print(c, score)\n",
    "    hist.append([c, score, h])\n",
    "hist = np.array(hist)"
   ]
  },
  {
   "cell_type": "code",
   "execution_count": 86,
   "id": "a68f8d14-9f90-4df8-846b-95d505f24552",
   "metadata": {},
   "outputs": [
    {
     "data": {
      "text/plain": [
       "Text(0.5, 0, 'Constant c')"
      ]
     },
     "execution_count": 86,
     "metadata": {},
     "output_type": "execute_result"
    },
    {
     "data": {
      "image/png": "[encoded data removed]",
      "text/plain": [
       "<Figure size 1080x432 with 1 Axes>"
      ]
     },
     "metadata": {
      "needs_background": "light"
     },
     "output_type": "display_data"
    }
   ],
   "source": [
    "df = pd.DataFrame(hist, columns=['c', 'score', 'h']).explode('h')\n",
    "df['c'] = df.c.apply(lambda x: round(x, 1))\n",
    "\n",
    "fig, ax = plt.subplots(1, 1, figsize=(15, 6))\n",
    "\n",
    "sns.boxplot(data=df, x='c', y='h', ax=ax)\n",
    "ax.set_xlabel('Constant c')"
   ]
  },
  {
   "cell_type": "code",
   "execution_count": 119,
   "id": "10abea22-3004-41fd-aacd-e0a78fee7d4a",
   "metadata": {},
   "outputs": [
    {
     "data": {
      "text/html": [
       "<div>\n",
       "<style scoped>\n",
       "    .dataframe tbody tr th:only-of-type {\n",
       "        vertical-align: middle;\n",
       "    }\n",
       "\n",
       "    .dataframe tbody tr th {\n",
       "        vertical-align: top;\n",
       "    }\n",
       "\n",
       "    .dataframe thead th {\n",
       "        text-align: right;\n",
       "    }\n",
       "</style>\n",
       "<table border=\"1\" class=\"dataframe\">\n",
       "  <thead>\n",
       "    <tr style=\"text-align: right;\">\n",
       "      <th></th>\n",
       "      <th>index</th>\n",
       "      <th>c</th>\n",
       "      <th>score</th>\n",
       "      <th>h</th>\n",
       "    </tr>\n",
       "  </thead>\n",
       "  <tbody>\n",
       "    <tr>\n",
       "      <th>0</th>\n",
       "      <td>0</td>\n",
       "      <td>2.0</td>\n",
       "      <td>18.4</td>\n",
       "      <td>[19, 20, 15, 20, 17, 15, 19, 21, 17, 21]</td>\n",
       "    </tr>\n",
       "    <tr>\n",
       "      <th>2</th>\n",
       "      <td>2</td>\n",
       "      <td>2.4</td>\n",
       "      <td>18.1</td>\n",
       "      <td>[19, 16, 20, 18, 14, 19, 18, 18, 19, 20]</td>\n",
       "    </tr>\n",
       "    <tr>\n",
       "      <th>4</th>\n",
       "      <td>4</td>\n",
       "      <td>2.8</td>\n",
       "      <td>18.8</td>\n",
       "      <td>[21, 21, 20, 20, 15, 20, 18, 16, 17, 20]</td>\n",
       "    </tr>\n",
       "    <tr>\n",
       "      <th>6</th>\n",
       "      <td>6</td>\n",
       "      <td>3.2</td>\n",
       "      <td>19.8</td>\n",
       "      <td>[17, 22, 18, 17, 18, 19, 22, 21, 23, 21]</td>\n",
       "    </tr>\n",
       "    <tr>\n",
       "      <th>8</th>\n",
       "      <td>8</td>\n",
       "      <td>3.6</td>\n",
       "      <td>19.4</td>\n",
       "      <td>[16, 15, 19, 19, 19, 23, 22, 20, 20, 21]</td>\n",
       "    </tr>\n",
       "    <tr>\n",
       "      <th>10</th>\n",
       "      <td>10</td>\n",
       "      <td>4.0</td>\n",
       "      <td>18.2</td>\n",
       "      <td>[16, 18, 16, 19, 15, 20, 18, 23, 22, 15]</td>\n",
       "    </tr>\n",
       "    <tr>\n",
       "      <th>12</th>\n",
       "      <td>12</td>\n",
       "      <td>4.4</td>\n",
       "      <td>18.3</td>\n",
       "      <td>[16, 25, 17, 20, 15, 19, 15, 20, 16, 20]</td>\n",
       "    </tr>\n",
       "    <tr>\n",
       "      <th>14</th>\n",
       "      <td>14</td>\n",
       "      <td>4.8</td>\n",
       "      <td>17.7</td>\n",
       "      <td>[19, 16, 19, 16, 16, 22, 15, 20, 17, 17]</td>\n",
       "    </tr>\n",
       "  </tbody>\n",
       "</table>\n",
       "</div>"
      ],
      "text/plain": [
       "    index    c score                                         h\n",
       "0       0  2.0  18.4  [19, 20, 15, 20, 17, 15, 19, 21, 17, 21]\n",
       "2       2  2.4  18.1  [19, 16, 20, 18, 14, 19, 18, 18, 19, 20]\n",
       "4       4  2.8  18.8  [21, 21, 20, 20, 15, 20, 18, 16, 17, 20]\n",
       "6       6  3.2  19.8  [17, 22, 18, 17, 18, 19, 22, 21, 23, 21]\n",
       "8       8  3.6  19.4  [16, 15, 19, 19, 19, 23, 22, 20, 20, 21]\n",
       "10     10  4.0  18.2  [16, 18, 16, 19, 15, 20, 18, 23, 22, 15]\n",
       "12     12  4.4  18.3  [16, 25, 17, 20, 15, 19, 15, 20, 16, 20]\n",
       "14     14  4.8  17.7  [19, 16, 19, 16, 16, 22, 15, 20, 17, 17]"
      ]
     },
     "execution_count": 119,
     "metadata": {},
     "output_type": "execute_result"
    }
   ],
   "source": [
    "df"
   ]
  },
  {
   "cell_type": "code",
   "execution_count": 126,
   "id": "6c58f6d0-5bcd-49d9-8b50-947611ebbd2b",
   "metadata": {},
   "outputs": [
    {
     "data": {
      "image/png": "[encoded data removed]",
      "text/plain": [
       "<Figure size 1080x432 with 1 Axes>"
      ]
     },
     "metadata": {
      "needs_background": "light"
     },
     "output_type": "display_data"
    }
   ],
   "source": [
    "df = pd.DataFrame(hist, columns=['c', 'score', 'h']).reset_index().query(\"index % 2 == 0\")\n",
    "df['c'] = df.c.apply(lambda x: round(x, 1))\n",
    "df['score'] = df.score.apply(lambda x: float(x))\n",
    "\n",
    "fig, ax = plt.subplots(1, 1, figsize=(15, 6))\n",
    "\n",
    "ax.hlines(19., 2, 4.8, color='black')\n",
    "ax.text(2, 19.1, 'Greedy')\n",
    "\n",
    "sns.lineplot(data=df, x='c', y='score', ax=ax)\n",
    "ax.set_xlabel('Constant c')\n",
    "ax.set_xticks(np.arange(2, 5, 0.4))\n",
    "ax.set_xticklabels(df.c);"
   ]
  }
 ],
 "metadata": {
  "kernelspec": {
   "display_name": "datascience",
   "language": "python",
   "name": "datascience"
  },
  "language_info": {
   "codemirror_mode": {
    "name": "ipython",
    "version": 3
   },
   "file_extension": ".py",
   "mimetype": "text/x-python",
   "name": "python",
   "nbconvert_exporter": "python",
   "pygments_lexer": "ipython3",
   "version": "3.8.5"
  }
 },
 "nbformat": 4,
 "nbformat_minor": 5
}
