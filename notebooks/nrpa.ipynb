{
 "cells": [
  {
   "cell_type": "code",
   "execution_count": 1,
   "metadata": {},
   "outputs": [],
   "source": [
    "%load_ext autoreload\n",
    "%autoreload 2"
   ]
  },
  {
   "cell_type": "code",
   "execution_count": 2,
   "metadata": {},
   "outputs": [],
   "source": [
    "import sys\n",
    "sys.path.append(\"../\")"
   ]
  },
  {
   "cell_type": "code",
   "execution_count": 3,
   "metadata": {},
   "outputs": [],
   "source": [
    "from algos.nmcsTimed import *\n",
    "from algos.nrpasTimed import *\n",
    "from utils import *\n",
    "from base import *\n",
    "\n",
    "import matplotlib.pyplot as plt\n",
    "import seaborn as sns\n",
    "import pandas as pd\n",
    "import numpy as np"
   ]
  },
  {
   "cell_type": "code",
   "execution_count": 4,
   "metadata": {},
   "outputs": [],
   "source": [
    "filename = \"../data/c_memorable_moments.txt\""
   ]
  },
  {
   "cell_type": "code",
   "execution_count": 5,
   "metadata": {},
   "outputs": [],
   "source": [
    "def get_score(ss_idx):\n",
    "    ss = Slideshow()\n",
    "    [ss.add_right(SLIDES[s]) for s in ss_idx]\n",
    "    return sum(ss.scores)\n",
    "\n",
    "@timeit\n",
    "def mean_scores(n, sol, stabilized=False, monitor_time=False, delay=1000):\n",
    "    scores = []\n",
    "    for i in range(30):\n",
    "        if stabilized:\n",
    "            if monitor_time:\n",
    "                ss = sol.run(n, verbose=0, stabilized=True, monitor_time=True, delay=delay)\n",
    "            else:\n",
    "                ss = sol.run(n, verbose=0, stabilized=True)\n",
    "        else:\n",
    "            if monitor_time:\n",
    "                ss = sol.run(n, verbose=0, monitor_time=True, delay=delay)\n",
    "            else:\n",
    "                ss = sol.run(n, verbose=0)\n",
    "        score = np.sum(ss.scores)\n",
    "        scores.append(score)\n",
    "    return np.mean(scores), scores"
   ]
  },
  {
   "cell_type": "markdown",
   "metadata": {},
   "source": [
    "## NRPA\n",
    "The first improvement over NMCS that we implemented is NRPA. We will see how it compares with NMCS for different compute times "
   ]
  },
  {
   "cell_type": "code",
   "execution_count": 6,
   "metadata": {},
   "outputs": [],
   "source": [
    "initial_time = 0.06\n",
    "search_times = [initial_time]\n",
    "for k in range(5):\n",
    "    search_times.append(initial_time*2)\n",
    "    initial_time = initial_time*2"
   ]
  },
  {
   "cell_type": "code",
   "execution_count": 7,
   "metadata": {},
   "outputs": [
    {
     "name": "stdout",
     "output_type": "stream",
     "text": [
      "1000 photos caught.\n",
      "func:'form_slides' took: 0.0034 sec\n",
      "Num slides : 750\n",
      "func:'mean_scores' took: 3.6249 sec\n",
      "1000 photos caught.\n",
      "func:'form_slides' took: 0.0000 sec\n",
      "Num slides : 750\n",
      "func:'mean_scores' took: 2.3029 sec\n",
      "1000 photos caught.\n",
      "func:'form_slides' took: 0.0081 sec\n",
      "Num slides : 750\n",
      "func:'mean_scores' took: 5.6417 sec\n",
      "1000 photos caught.\n",
      "func:'form_slides' took: 0.0000 sec\n",
      "Num slides : 750\n",
      "func:'mean_scores' took: 4.0720 sec\n",
      "1000 photos caught.\n",
      "func:'form_slides' took: 0.0000 sec\n",
      "Num slides : 750\n",
      "func:'mean_scores' took: 9.2227 sec\n",
      "1000 photos caught.\n",
      "func:'form_slides' took: 0.0000 sec\n",
      "Num slides : 750\n",
      "func:'mean_scores' took: 7.7023 sec\n",
      "1000 photos caught.\n",
      "func:'form_slides' took: 0.0105 sec\n",
      "Num slides : 750\n",
      "func:'mean_scores' took: 16.1950 sec\n",
      "1000 photos caught.\n",
      "func:'form_slides' took: 0.0082 sec\n",
      "Num slides : 750\n",
      "func:'mean_scores' took: 14.8869 sec\n",
      "1000 photos caught.\n",
      "func:'form_slides' took: 0.0083 sec\n",
      "Num slides : 750\n",
      "func:'mean_scores' took: 29.6849 sec\n",
      "1000 photos caught.\n",
      "func:'form_slides' took: 0.0081 sec\n",
      "Num slides : 750\n",
      "func:'mean_scores' took: 29.2239 sec\n",
      "1000 photos caught.\n",
      "func:'form_slides' took: 0.0084 sec\n",
      "Num slides : 750\n",
      "func:'mean_scores' took: 58.2484 sec\n",
      "1000 photos caught.\n",
      "func:'form_slides' took: 0.0000 sec\n",
      "Num slides : 750\n",
      "func:'mean_scores' took: 42.9144 sec\n"
     ]
    },
    {
     "data": {
      "text/html": [
       "<div>\n",
       "<style scoped>\n",
       "    .dataframe tbody tr th:only-of-type {\n",
       "        vertical-align: middle;\n",
       "    }\n",
       "\n",
       "    .dataframe tbody tr th {\n",
       "        vertical-align: top;\n",
       "    }\n",
       "\n",
       "    .dataframe thead th {\n",
       "        text-align: right;\n",
       "    }\n",
       "</style>\n",
       "<table border=\"1\" class=\"dataframe\">\n",
       "  <thead>\n",
       "    <tr style=\"text-align: right;\">\n",
       "      <th></th>\n",
       "      <th>searchTime</th>\n",
       "      <th>NMCS</th>\n",
       "      <th>NRPA</th>\n",
       "    </tr>\n",
       "  </thead>\n",
       "  <tbody>\n",
       "    <tr>\n",
       "      <th>0</th>\n",
       "      <td>0.06</td>\n",
       "      <td>0.000000</td>\n",
       "      <td>14.400000</td>\n",
       "    </tr>\n",
       "    <tr>\n",
       "      <th>1</th>\n",
       "      <td>0.12</td>\n",
       "      <td>0.333333</td>\n",
       "      <td>15.300000</td>\n",
       "    </tr>\n",
       "    <tr>\n",
       "      <th>2</th>\n",
       "      <td>0.24</td>\n",
       "      <td>1.466667</td>\n",
       "      <td>15.800000</td>\n",
       "    </tr>\n",
       "    <tr>\n",
       "      <th>3</th>\n",
       "      <td>0.48</td>\n",
       "      <td>3.400000</td>\n",
       "      <td>17.333333</td>\n",
       "    </tr>\n",
       "    <tr>\n",
       "      <th>4</th>\n",
       "      <td>0.96</td>\n",
       "      <td>8.300000</td>\n",
       "      <td>19.033333</td>\n",
       "    </tr>\n",
       "    <tr>\n",
       "      <th>5</th>\n",
       "      <td>1.92</td>\n",
       "      <td>15.566667</td>\n",
       "      <td>19.300000</td>\n",
       "    </tr>\n",
       "  </tbody>\n",
       "</table>\n",
       "</div>"
      ],
      "text/plain": [
       "   searchTime       NMCS       NRPA\n",
       "0        0.06   0.000000  14.400000\n",
       "1        0.12   0.333333  15.300000\n",
       "2        0.24   1.466667  15.800000\n",
       "3        0.48   3.400000  17.333333\n",
       "4        0.96   8.300000  19.033333\n",
       "5        1.92  15.566667  19.300000"
      ]
     },
     "metadata": {},
     "output_type": "display_data"
    }
   ],
   "source": [
    "NMCS_score = []\n",
    "NRPA_score = []\n",
    "for compute_time in search_times:\n",
    "    # Run NMCS and get the score after compute_time\n",
    "    sol = NestedMCSolutionTimed(filename, max_slides=50)\n",
    "    a, b = mean_scores(2, sol, monitor_time=True, delay=compute_time)\n",
    "    NMCS_score.append(a)\n",
    "    \n",
    "    # Run NRPA and get the score after compute_time\n",
    "    sol = NRPASolutionTimed(filename, max_slides=50)\n",
    "    sa, sb = mean_scores(2, sol, monitor_time=True, delay=compute_time)\n",
    "    NRPA_score.append(sa)\n",
    "\n",
    "df = pd.DataFrame(np.transpose(np.array([search_times, NMCS_score, NRPA_score])), columns=['searchTime','NMCS', 'NRPA'])\n",
    "display(df)"
   ]
  },
  {
   "cell_type": "markdown",
   "metadata": {},
   "source": [
    "We can see that using our best implementation of NRPA provides better results than our best implementation of NMCS for each compute time."
   ]
  },
  {
   "cell_type": "markdown",
   "metadata": {},
   "source": [
    "## Stabilized NRPA\n",
    "\n",
    "Stabilized NRPA is a simple modification of the NRPA algorithm. It consists in periodically playing P playouts at the lowest level before performing the adaptation."
   ]
  },
  {
   "cell_type": "markdown",
   "metadata": {},
   "source": [
    "### Picking a good P value \n",
    "We set N=50 and level=2 in order to evaluate an appropriate P value. We iterate through 1 to 10."
   ]
  },
  {
   "cell_type": "code",
   "execution_count": 8,
   "metadata": {},
   "outputs": [
    {
     "name": "stdout",
     "output_type": "stream",
     "text": [
      "1000 photos caught.\n",
      "func:'form_slides' took: 0.0022 sec\n",
      "Num slides : 750\n",
      "func:'mean_scores' took: 3.0014 sec\n",
      "1000 photos caught.\n",
      "func:'form_slides' took: 0.0066 sec\n",
      "Num slides : 750\n",
      "func:'mean_scores' took: 5.4010 sec\n",
      "1000 photos caught.\n",
      "func:'form_slides' took: 0.0021 sec\n",
      "Num slides : 750\n",
      "func:'mean_scores' took: 7.2629 sec\n",
      "1000 photos caught.\n",
      "func:'form_slides' took: 0.0159 sec\n",
      "Num slides : 750\n",
      "func:'mean_scores' took: 9.0680 sec\n",
      "1000 photos caught.\n",
      "func:'form_slides' took: 0.1002 sec\n",
      "Num slides : 750\n",
      "func:'mean_scores' took: 12.0212 sec\n",
      "1000 photos caught.\n",
      "func:'form_slides' took: 0.0000 sec\n",
      "Num slides : 750\n",
      "func:'mean_scores' took: 14.4006 sec\n",
      "1000 photos caught.\n",
      "func:'form_slides' took: 0.0157 sec\n",
      "Num slides : 750\n",
      "func:'mean_scores' took: 15.7505 sec\n",
      "1000 photos caught.\n",
      "func:'form_slides' took: 0.0156 sec\n",
      "Num slides : 750\n",
      "func:'mean_scores' took: 16.9364 sec\n",
      "1000 photos caught.\n",
      "func:'form_slides' took: 0.0000 sec\n",
      "Num slides : 750\n",
      "func:'mean_scores' took: 19.5639 sec\n"
     ]
    }
   ],
   "source": [
    "from algos.nrpas import *\n",
    "\n",
    "p_score = []\n",
    "for p in range(1,10):\n",
    "    sol = NRPASolution(filename, max_slides=50, N=50, P=p)\n",
    "    a, b = mean_scores(2, sol, True)\n",
    "    p_score.append(a)"
   ]
  },
  {
   "cell_type": "code",
   "execution_count": 9,
   "metadata": {},
   "outputs": [
    {
     "data": {
      "image/png": "[encoded data removed]",
      "text/plain": [
       "<Figure size 720x504 with 1 Axes>"
      ]
     },
     "metadata": {
      "needs_background": "light"
     },
     "output_type": "display_data"
    }
   ],
   "source": [
    "plt.figure(figsize=(10,7))\n",
    "plt.plot(p_score)\n",
    "plt.ylabel('Mean score value')\n",
    "plt.xlabel('Number of P iteration')\n",
    "plt.show()"
   ]
  },
  {
   "cell_type": "markdown",
   "metadata": {},
   "source": [
    "Evaluation improves the performance for a growing P value. Thus, P=10 yields the best performance. "
   ]
  },
  {
   "cell_type": "markdown",
   "metadata": {},
   "source": [
    "### NRPA vs SNRPA(10)\n",
    "Let's see with different compute time which algorithm yield the best performance"
   ]
  },
  {
   "cell_type": "code",
   "execution_count": 10,
   "metadata": {},
   "outputs": [
    {
     "name": "stdout",
     "output_type": "stream",
     "text": [
      "1000 photos caught.\n",
      "func:'form_slides' took: 0.0044 sec\n",
      "Num slides : 750\n",
      "func:'mean_scores' took: 2.2208 sec\n",
      "1000 photos caught.\n",
      "func:'form_slides' took: 0.0000 sec\n",
      "Num slides : 750\n",
      "func:'mean_scores' took: 2.2475 sec\n",
      "1000 photos caught.\n",
      "func:'form_slides' took: 0.0000 sec\n",
      "Num slides : 750\n",
      "func:'mean_scores' took: 4.2922 sec\n",
      "1000 photos caught.\n",
      "func:'form_slides' took: 0.0000 sec\n",
      "Num slides : 750\n",
      "func:'mean_scores' took: 4.2467 sec\n",
      "1000 photos caught.\n",
      "func:'form_slides' took: 0.0000 sec\n",
      "Num slides : 750\n",
      "func:'mean_scores' took: 7.8044 sec\n",
      "1000 photos caught.\n",
      "func:'form_slides' took: 0.0000 sec\n",
      "Num slides : 750\n",
      "func:'mean_scores' took: 7.6859 sec\n",
      "1000 photos caught.\n",
      "func:'form_slides' took: 0.0156 sec\n",
      "Num slides : 750\n",
      "func:'mean_scores' took: 14.8594 sec\n",
      "1000 photos caught.\n",
      "func:'form_slides' took: 0.0033 sec\n",
      "Num slides : 750\n",
      "func:'mean_scores' took: 14.9964 sec\n",
      "1000 photos caught.\n",
      "func:'form_slides' took: 0.0000 sec\n",
      "Num slides : 750\n",
      "func:'mean_scores' took: 29.3267 sec\n",
      "1000 photos caught.\n",
      "func:'form_slides' took: 0.0000 sec\n",
      "Num slides : 750\n",
      "func:'mean_scores' took: 29.3647 sec\n",
      "1000 photos caught.\n",
      "func:'form_slides' took: 0.0000 sec\n",
      "Num slides : 750\n",
      "func:'mean_scores' took: 41.2127 sec\n",
      "1000 photos caught.\n",
      "func:'form_slides' took: 0.1104 sec\n",
      "Num slides : 750\n",
      "func:'mean_scores' took: 40.3471 sec\n"
     ]
    },
    {
     "data": {
      "text/html": [
       "<div>\n",
       "<style scoped>\n",
       "    .dataframe tbody tr th:only-of-type {\n",
       "        vertical-align: middle;\n",
       "    }\n",
       "\n",
       "    .dataframe tbody tr th {\n",
       "        vertical-align: top;\n",
       "    }\n",
       "\n",
       "    .dataframe thead th {\n",
       "        text-align: right;\n",
       "    }\n",
       "</style>\n",
       "<table border=\"1\" class=\"dataframe\">\n",
       "  <thead>\n",
       "    <tr style=\"text-align: right;\">\n",
       "      <th></th>\n",
       "      <th>computeTime</th>\n",
       "      <th>NRPA_score</th>\n",
       "      <th>SNRPA_score</th>\n",
       "    </tr>\n",
       "  </thead>\n",
       "  <tbody>\n",
       "    <tr>\n",
       "      <th>0</th>\n",
       "      <td>0.06</td>\n",
       "      <td>14.533333</td>\n",
       "      <td>13.900000</td>\n",
       "    </tr>\n",
       "    <tr>\n",
       "      <th>1</th>\n",
       "      <td>0.12</td>\n",
       "      <td>15.633333</td>\n",
       "      <td>15.333333</td>\n",
       "    </tr>\n",
       "    <tr>\n",
       "      <th>2</th>\n",
       "      <td>0.24</td>\n",
       "      <td>16.500000</td>\n",
       "      <td>15.733333</td>\n",
       "    </tr>\n",
       "    <tr>\n",
       "      <th>3</th>\n",
       "      <td>0.48</td>\n",
       "      <td>16.900000</td>\n",
       "      <td>16.966667</td>\n",
       "    </tr>\n",
       "    <tr>\n",
       "      <th>4</th>\n",
       "      <td>0.96</td>\n",
       "      <td>18.366667</td>\n",
       "      <td>18.766667</td>\n",
       "    </tr>\n",
       "    <tr>\n",
       "      <th>5</th>\n",
       "      <td>1.92</td>\n",
       "      <td>19.000000</td>\n",
       "      <td>19.100000</td>\n",
       "    </tr>\n",
       "  </tbody>\n",
       "</table>\n",
       "</div>"
      ],
      "text/plain": [
       "   computeTime  NRPA_score  SNRPA_score\n",
       "0         0.06   14.533333    13.900000\n",
       "1         0.12   15.633333    15.333333\n",
       "2         0.24   16.500000    15.733333\n",
       "3         0.48   16.900000    16.966667\n",
       "4         0.96   18.366667    18.766667\n",
       "5         1.92   19.000000    19.100000"
      ]
     },
     "metadata": {},
     "output_type": "display_data"
    }
   ],
   "source": [
    "SNRPA_score = []\n",
    "NRPA_score = []\n",
    "for compute_time in search_times:\n",
    "    # Run NRPA and get the score after compute_time\n",
    "    sol = NRPASolutionTimed(filename, max_slides=50)\n",
    "    sa, sb = mean_scores(2, sol, monitor_time=True, delay=compute_time)\n",
    "    NRPA_score.append(sa)\n",
    "    \n",
    "    # Run SNRPA with P=10 and get the score after compute_time\n",
    "    sol = NRPASolutionTimed(filename, max_slides=50)\n",
    "    sa, sb = mean_scores(2, sol, True, monitor_time=True, delay=compute_time)\n",
    "    SNRPA_score.append(sa)\n",
    "    \n",
    "df = pd.DataFrame(np.transpose(np.array([search_times,NRPA_score,SNRPA_score])), columns=['computeTime','NRPA_score', 'SNRPA_score'])\n",
    "display(df)"
   ]
  }
 ],
 "metadata": {
  "kernelspec": {
   "display_name": "Python 3",
   "language": "python",
   "name": "python3"
  },
  "language_info": {
   "codemirror_mode": {
    "name": "ipython",
    "version": 3
   },
   "file_extension": ".py",
   "mimetype": "text/x-python",
   "name": "python",
   "nbconvert_exporter": "python",
   "pygments_lexer": "ipython3",
   "version": "3.8.5"
  }
 },
 "nbformat": 4,
 "nbformat_minor": 4
}
