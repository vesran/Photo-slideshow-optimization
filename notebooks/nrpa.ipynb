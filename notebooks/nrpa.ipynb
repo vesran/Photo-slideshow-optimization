{
 "cells": [
  {
   "cell_type": "code",
   "execution_count": 1,
   "metadata": {},
   "outputs": [],
   "source": [
    "%load_ext autoreload\n",
    "%autoreload 2"
   ]
  },
  {
   "cell_type": "code",
   "execution_count": 2,
   "metadata": {},
   "outputs": [],
   "source": [
    "import sys\n",
    "sys.path.append(\"../\")"
   ]
  },
  {
   "cell_type": "code",
   "execution_count": 3,
   "metadata": {},
   "outputs": [],
   "source": [
    "from algos.nmcsTimed import *\n",
    "from algos.nrpasTimed import *\n",
    "from utils import *\n",
    "from base import *\n",
    "\n",
    "import matplotlib.pyplot as plt\n",
    "import seaborn as sns\n",
    "import pandas as pd\n",
    "import numpy as np"
   ]
  },
  {
   "cell_type": "code",
   "execution_count": 4,
   "metadata": {},
   "outputs": [],
   "source": [
    "filename = \"../data/c_memorable_moments.txt\""
   ]
  },
  {
   "cell_type": "code",
   "execution_count": 13,
   "metadata": {},
   "outputs": [],
   "source": [
    "def get_score(ss_idx):\n",
    "    ss = Slideshow()\n",
    "    [ss.add_right(SLIDES[s]) for s in ss_idx]\n",
    "    return sum(ss.scores)\n",
    "\n",
    "@timeit\n",
    "def mean_scores(n, sol, stabilized=False, monitor_time=False, delay=1000):\n",
    "    scores = []\n",
    "    for i in range(30):\n",
    "        if stabilized:\n",
    "            if monitor_time:\n",
    "                ss = sol.run(n, verbose=0, stabilized=True, monitor_time=True, delay=delay)\n",
    "            else:\n",
    "                ss = sol.run(n, verbose=0, stabilized=True)\n",
    "        else:\n",
    "            if monitor_time:\n",
    "                ss = sol.run(n, verbose=0, monitor_time=True, delay=delay)\n",
    "            else:\n",
    "                ss = sol.run(n, verbose=0)\n",
    "        score = np.sum(ss.scores)\n",
    "        scores.append(score)\n",
    "    return np.mean(scores), scores"
   ]
  },
  {
   "cell_type": "markdown",
   "metadata": {},
   "source": [
    "## NRPA\n",
    "The first improvement over NMCS that we implemented is NRPA. We will see how it compares with NMCS for different compute times "
   ]
  },
  {
   "cell_type": "code",
   "execution_count": 7,
   "metadata": {},
   "outputs": [],
   "source": [
    "initial_time = 0.06\n",
    "search_times = [initial_time]\n",
    "for k in range(5):\n",
    "    search_times.append(initial_time*2)\n",
    "    initial_time = initial_time*2"
   ]
  },
  {
   "cell_type": "code",
   "execution_count": 19,
   "metadata": {},
   "outputs": [
    {
     "name": "stdout",
     "output_type": "stream",
     "text": [
      "orientation is V with type : <class 'str'>\n",
      "1000 photos caught.\n",
      "func:'form_slides' took: 0.0017 sec\n",
      "Num slides : 750\n",
      "func:'mean_scores' took: 2.6909 sec\n",
      "orientation is V with type : <class 'str'>\n",
      "1000 photos caught.\n",
      "func:'form_slides' took: 0.0020 sec\n",
      "Num slides : 750\n",
      "func:'mean_scores' took: 1.8799 sec\n",
      "orientation is V with type : <class 'str'>\n",
      "1000 photos caught.\n",
      "func:'form_slides' took: 0.0011 sec\n",
      "Num slides : 750\n",
      "func:'mean_scores' took: 4.2249 sec\n",
      "orientation is V with type : <class 'str'>\n",
      "1000 photos caught.\n",
      "func:'form_slides' took: 0.0010 sec\n",
      "Num slides : 750\n",
      "func:'mean_scores' took: 3.6835 sec\n",
      "orientation is V with type : <class 'str'>\n",
      "1000 photos caught.\n",
      "func:'form_slides' took: 0.0019 sec\n",
      "Num slides : 750\n",
      "func:'mean_scores' took: 7.8051 sec\n",
      "orientation is V with type : <class 'str'>\n",
      "1000 photos caught.\n",
      "func:'form_slides' took: 0.0010 sec\n",
      "Num slides : 750\n",
      "func:'mean_scores' took: 7.2505 sec\n",
      "orientation is V with type : <class 'str'>\n",
      "1000 photos caught.\n",
      "func:'form_slides' took: 0.0023 sec\n",
      "Num slides : 750\n",
      "func:'mean_scores' took: 14.7918 sec\n",
      "orientation is V with type : <class 'str'>\n",
      "1000 photos caught.\n",
      "func:'form_slides' took: 0.0011 sec\n",
      "Num slides : 750\n",
      "func:'mean_scores' took: 7.9854 sec\n",
      "orientation is V with type : <class 'str'>\n",
      "1000 photos caught.\n",
      "func:'form_slides' took: 0.0011 sec\n",
      "Num slides : 750\n",
      "func:'mean_scores' took: 24.4229 sec\n",
      "orientation is V with type : <class 'str'>\n",
      "1000 photos caught.\n",
      "func:'form_slides' took: 0.0010 sec\n",
      "Num slides : 750\n",
      "func:'mean_scores' took: 7.4954 sec\n",
      "orientation is V with type : <class 'str'>\n",
      "1000 photos caught.\n",
      "func:'form_slides' took: 0.0010 sec\n",
      "Num slides : 750\n",
      "func:'mean_scores' took: 26.1083 sec\n",
      "orientation is V with type : <class 'str'>\n",
      "1000 photos caught.\n",
      "func:'form_slides' took: 0.0020 sec\n",
      "Num slides : 750\n",
      "func:'mean_scores' took: 8.0452 sec\n"
     ]
    },
    {
     "data": {
      "text/html": [
       "<div>\n",
       "<style scoped>\n",
       "    .dataframe tbody tr th:only-of-type {\n",
       "        vertical-align: middle;\n",
       "    }\n",
       "\n",
       "    .dataframe tbody tr th {\n",
       "        vertical-align: top;\n",
       "    }\n",
       "\n",
       "    .dataframe thead th {\n",
       "        text-align: right;\n",
       "    }\n",
       "</style>\n",
       "<table border=\"1\" class=\"dataframe\">\n",
       "  <thead>\n",
       "    <tr style=\"text-align: right;\">\n",
       "      <th></th>\n",
       "      <th>searchTime</th>\n",
       "      <th>NMCS</th>\n",
       "      <th>NRPA</th>\n",
       "    </tr>\n",
       "  </thead>\n",
       "  <tbody>\n",
       "    <tr>\n",
       "      <td>0</td>\n",
       "      <td>0.06</td>\n",
       "      <td>0.466667</td>\n",
       "      <td>15.400000</td>\n",
       "    </tr>\n",
       "    <tr>\n",
       "      <td>1</td>\n",
       "      <td>0.12</td>\n",
       "      <td>2.266667</td>\n",
       "      <td>16.900000</td>\n",
       "    </tr>\n",
       "    <tr>\n",
       "      <td>2</td>\n",
       "      <td>0.24</td>\n",
       "      <td>5.000000</td>\n",
       "      <td>17.400000</td>\n",
       "    </tr>\n",
       "    <tr>\n",
       "      <td>3</td>\n",
       "      <td>0.48</td>\n",
       "      <td>10.333333</td>\n",
       "      <td>18.133333</td>\n",
       "    </tr>\n",
       "    <tr>\n",
       "      <td>4</td>\n",
       "      <td>0.96</td>\n",
       "      <td>22.800000</td>\n",
       "      <td>17.866667</td>\n",
       "    </tr>\n",
       "    <tr>\n",
       "      <td>5</td>\n",
       "      <td>1.92</td>\n",
       "      <td>23.900000</td>\n",
       "      <td>18.200000</td>\n",
       "    </tr>\n",
       "  </tbody>\n",
       "</table>\n",
       "</div>"
      ],
      "text/plain": [
       "   searchTime       NMCS       NRPA\n",
       "0        0.06   0.466667  15.400000\n",
       "1        0.12   2.266667  16.900000\n",
       "2        0.24   5.000000  17.400000\n",
       "3        0.48  10.333333  18.133333\n",
       "4        0.96  22.800000  17.866667\n",
       "5        1.92  23.900000  18.200000"
      ]
     },
     "metadata": {},
     "output_type": "display_data"
    }
   ],
   "source": [
    "NMCS_score = []\n",
    "NRPA_score = []\n",
    "for compute_time in search_times:\n",
    "    # Run NMCS and get the score after compute_time\n",
    "    sol = NestedMCSolutionTimed(filename, max_slides=50)\n",
    "    a, b = mean_scores(2, sol, monitor_time=True, delay=compute_time)\n",
    "    NMCS_score.append(a)\n",
    "    \n",
    "    # Run NRPA and get the score after compute_time\n",
    "    sol = NRPASolutionTimed(filename, max_slides=50)\n",
    "    sa, sb = mean_scores(2, sol, monitor_time=True, delay=compute_time)\n",
    "    NRPA_score.append(sa)\n",
    "\n",
    "df = pd.DataFrame(np.transpose(np.array([search_times, NMCS_score, NRPA_score])), columns=['searchTime','NMCS', 'NRPA'])\n",
    "display(df)"
   ]
  },
  {
   "cell_type": "markdown",
   "metadata": {},
   "source": [
    "We can see that using our best implementation of NRPA provides better results than our best implementation of NMCS for each compute time."
   ]
  },
  {
   "cell_type": "markdown",
   "metadata": {},
   "source": [
    "## Stabilized NRPA\n",
    "\n",
    "Stabilized NRPA is a simple modification of the NRPA algorithm. It consists in periodically playing P playouts at the lowest level before performing the adaptation."
   ]
  },
  {
   "cell_type": "markdown",
   "metadata": {},
   "source": [
    "### Picking a good P value \n",
    "We set N=50 and level=2 in order to evaluate an appropriate P value. We iterate through 1 to 10."
   ]
  },
  {
   "cell_type": "code",
   "execution_count": null,
   "metadata": {},
   "outputs": [],
   "source": [
    "p_score = []\n",
    "for p in range(1,10):\n",
    "    sol = NRPASolution(filename, max_slides=50, N=50, P=p)\n",
    "    a, b = mean_scores(2, sol, True)\n",
    "    p_score.append(a)"
   ]
  },
  {
   "cell_type": "code",
   "execution_count": 13,
   "metadata": {},
   "outputs": [
    {
     "data": {
      "image/png": "[encoded data removed]",
      "text/plain": [
       "<Figure size 720x504 with 1 Axes>"
      ]
     },
     "metadata": {
      "needs_background": "light"
     },
     "output_type": "display_data"
    }
   ],
   "source": [
    "plt.figure(figsize=(10,7))\n",
    "plt.plot(p_score)\n",
    "plt.ylabel('Mean score value')\n",
    "plt.xlabel('Number of P iteration')\n",
    "plt.show()"
   ]
  },
  {
   "cell_type": "markdown",
   "metadata": {},
   "source": [
    "Evaluation improves the performance for a growing P value. Thus, P=10 yields the best performance. "
   ]
  },
  {
   "cell_type": "markdown",
   "metadata": {},
   "source": [
    "### NRPA vs SNRPA(10)\n",
    "Let's see with different compute time which algorithm yield the best performance"
   ]
  },
  {
   "cell_type": "code",
   "execution_count": 21,
   "metadata": {},
   "outputs": [
    {
     "name": "stdout",
     "output_type": "stream",
     "text": [
      "orientation is V with type : <class 'str'>\n",
      "1000 photos caught.\n",
      "func:'form_slides' took: 0.0017 sec\n",
      "Num slides : 750\n",
      "func:'mean_scores' took: 1.8816 sec\n",
      "orientation is V with type : <class 'str'>\n",
      "1000 photos caught.\n",
      "func:'form_slides' took: 0.0018 sec\n",
      "Num slides : 750\n",
      "func:'mean_scores' took: 1.9001 sec\n",
      "orientation is V with type : <class 'str'>\n",
      "1000 photos caught.\n",
      "func:'form_slides' took: 0.0023 sec\n",
      "Num slides : 750\n",
      "func:'mean_scores' took: 3.6912 sec\n",
      "orientation is V with type : <class 'str'>\n",
      "1000 photos caught.\n",
      "func:'form_slides' took: 0.0010 sec\n",
      "Num slides : 750\n",
      "func:'mean_scores' took: 3.6760 sec\n",
      "orientation is V with type : <class 'str'>\n",
      "1000 photos caught.\n",
      "func:'form_slides' took: 0.0010 sec\n",
      "Num slides : 750\n",
      "func:'mean_scores' took: 7.0031 sec\n",
      "orientation is V with type : <class 'str'>\n",
      "1000 photos caught.\n",
      "func:'form_slides' took: 0.0017 sec\n",
      "Num slides : 750\n",
      "func:'mean_scores' took: 7.0185 sec\n",
      "orientation is V with type : <class 'str'>\n",
      "1000 photos caught.\n",
      "func:'form_slides' took: 0.0010 sec\n",
      "Num slides : 750\n",
      "func:'mean_scores' took: 6.9821 sec\n",
      "orientation is V with type : <class 'str'>\n",
      "1000 photos caught.\n",
      "func:'form_slides' took: 0.0020 sec\n",
      "Num slides : 750\n",
      "func:'mean_scores' took: 7.5308 sec\n",
      "orientation is V with type : <class 'str'>\n",
      "1000 photos caught.\n",
      "func:'form_slides' took: 0.0011 sec\n",
      "Num slides : 750\n",
      "func:'mean_scores' took: 7.7022 sec\n",
      "orientation is V with type : <class 'str'>\n",
      "1000 photos caught.\n",
      "func:'form_slides' took: 0.0301 sec\n",
      "Num slides : 750\n",
      "func:'mean_scores' took: 7.3942 sec\n",
      "orientation is V with type : <class 'str'>\n",
      "1000 photos caught.\n",
      "func:'form_slides' took: 0.0010 sec\n",
      "Num slides : 750\n",
      "func:'mean_scores' took: 7.9864 sec\n",
      "orientation is V with type : <class 'str'>\n",
      "1000 photos caught.\n",
      "func:'form_slides' took: 0.0042 sec\n",
      "Num slides : 750\n",
      "func:'mean_scores' took: 7.3266 sec\n"
     ]
    },
    {
     "data": {
      "text/html": [
       "<div>\n",
       "<style scoped>\n",
       "    .dataframe tbody tr th:only-of-type {\n",
       "        vertical-align: middle;\n",
       "    }\n",
       "\n",
       "    .dataframe tbody tr th {\n",
       "        vertical-align: top;\n",
       "    }\n",
       "\n",
       "    .dataframe thead th {\n",
       "        text-align: right;\n",
       "    }\n",
       "</style>\n",
       "<table border=\"1\" class=\"dataframe\">\n",
       "  <thead>\n",
       "    <tr style=\"text-align: right;\">\n",
       "      <th></th>\n",
       "      <th>computeTime</th>\n",
       "      <th>NRPA_score</th>\n",
       "      <th>SNRPA_score</th>\n",
       "    </tr>\n",
       "  </thead>\n",
       "  <tbody>\n",
       "    <tr>\n",
       "      <td>0</td>\n",
       "      <td>0.06</td>\n",
       "      <td>15.566667</td>\n",
       "      <td>15.833333</td>\n",
       "    </tr>\n",
       "    <tr>\n",
       "      <td>1</td>\n",
       "      <td>0.12</td>\n",
       "      <td>16.766667</td>\n",
       "      <td>17.100000</td>\n",
       "    </tr>\n",
       "    <tr>\n",
       "      <td>2</td>\n",
       "      <td>0.24</td>\n",
       "      <td>17.600000</td>\n",
       "      <td>17.366667</td>\n",
       "    </tr>\n",
       "    <tr>\n",
       "      <td>3</td>\n",
       "      <td>0.48</td>\n",
       "      <td>17.433333</td>\n",
       "      <td>17.900000</td>\n",
       "    </tr>\n",
       "    <tr>\n",
       "      <td>4</td>\n",
       "      <td>0.96</td>\n",
       "      <td>17.566667</td>\n",
       "      <td>18.166667</td>\n",
       "    </tr>\n",
       "    <tr>\n",
       "      <td>5</td>\n",
       "      <td>1.92</td>\n",
       "      <td>17.933333</td>\n",
       "      <td>17.800000</td>\n",
       "    </tr>\n",
       "  </tbody>\n",
       "</table>\n",
       "</div>"
      ],
      "text/plain": [
       "   computeTime  NRPA_score  SNRPA_score\n",
       "0         0.06   15.566667    15.833333\n",
       "1         0.12   16.766667    17.100000\n",
       "2         0.24   17.600000    17.366667\n",
       "3         0.48   17.433333    17.900000\n",
       "4         0.96   17.566667    18.166667\n",
       "5         1.92   17.933333    17.800000"
      ]
     },
     "metadata": {},
     "output_type": "display_data"
    }
   ],
   "source": [
    "SNRPA_score = []\n",
    "NRPA_score = []\n",
    "for compute_time in search_times:\n",
    "    # Run NRPA and get the score after compute_time\n",
    "    sol = NRPASolutionTimed(filename, max_slides=50)\n",
    "    sa, sb = mean_scores(2, sol, monitor_time=True, delay=compute_time)\n",
    "    NRPA_score.append(sa)\n",
    "    \n",
    "    # Run SNRPA with P=10 and get the score after compute_time\n",
    "    sol = NRPASolutionTimed(filename, max_slides=50)\n",
    "    sa, sb = mean_scores(2, sol, True, monitor_time=True, delay=compute_time)\n",
    "    SNRPA_score.append(sa)\n",
    "    \n",
    "df = pd.DataFrame(np.transpose(np.array([search_times,NRPA_score,SNRPA_score])), columns=['computeTime','NRPA_score', 'SNRPA_score'])\n",
    "display(df)"
   ]
  }
 ],
 "metadata": {
  "kernelspec": {
   "display_name": "Python 3",
   "language": "python",
   "name": "python3"
  },
  "language_info": {
   "codemirror_mode": {
    "name": "ipython",
    "version": 3
   },
   "file_extension": ".py",
   "mimetype": "text/x-python",
   "name": "python",
   "nbconvert_exporter": "python",
   "pygments_lexer": "ipython3",
   "version": "3.7.4"
  }
 },
 "nbformat": 4,
 "nbformat_minor": 4
}
