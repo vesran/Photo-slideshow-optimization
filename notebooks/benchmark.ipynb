{
 "cells": [
  {
   "cell_type": "code",
   "execution_count": 1,
   "id": "4042d7d0-09ee-4417-b8ae-8c11fc383def",
   "metadata": {},
   "outputs": [],
   "source": [
    "%load_ext autoreload\n",
    "%autoreload 2"
   ]
  },
  {
   "cell_type": "code",
   "execution_count": 2,
   "id": "507190bb-3269-4e68-9d09-88b75aca1a6d",
   "metadata": {},
   "outputs": [],
   "source": [
    "import sys\n",
    "sys.path.append(\"../\") "
   ]
  },
  {
   "cell_type": "code",
   "execution_count": 6,
   "id": "993fc43f-9cf5-4481-a099-2a2954e1304a",
   "metadata": {},
   "outputs": [],
   "source": [
    "from algos.ucb import UCBSolution\n",
    "from algos.greedy import GreedySolution\n",
    "from algos.random_order import RandomSolution\n",
    "from base import score_slideshow\n",
    "import matplotlib.pyplot as plt\n",
    "import numpy as np\n",
    "import os"
   ]
  },
  {
   "cell_type": "code",
   "execution_count": 4,
   "id": "a9a45410-5b96-46ad-acc4-41ca255ac239",
   "metadata": {},
   "outputs": [],
   "source": [
    "filename = \"../data/c_memorable_moments.txt\""
   ]
  },
  {
   "cell_type": "code",
   "execution_count": 7,
   "id": "6b53dfb1-92a5-4f41-af7a-735f90aba7d3",
   "metadata": {
    "tags": []
   },
   "outputs": [
    {
     "name": "stderr",
     "output_type": "stream",
     "text": [
      "Create slideshow:   5%|██▉                                                           | 36/749 [00:00<00:02, 317.28it/s]"
     ]
    },
    {
     "name": "stdout",
     "output_type": "stream",
     "text": [
      "1000 photos caught.\n",
      "func:'form_slides' took: 0.0031 sec\n",
      "Num slides : 750\n"
     ]
    },
    {
     "name": "stderr",
     "output_type": "stream",
     "text": [
      "Create slideshow: 100%|█████████████████████████████████████████████████████████████| 749/749 [00:02<00:00, 313.43it/s]\n",
      "Create slideshow:   3%|█▊                                                            | 22/749 [00:00<00:03, 219.29it/s]"
     ]
    },
    {
     "name": "stdout",
     "output_type": "stream",
     "text": [
      "Num random : 0/750\n",
      "func:'create_slideshow' took: 2.4063 sec\n",
      "Score : 623\n",
      "1000 photos caught.\n",
      "func:'form_slides' took: 0.0156 sec\n",
      "Num slides : 750\n"
     ]
    },
    {
     "name": "stderr",
     "output_type": "stream",
     "text": [
      "Create slideshow: 100%|█████████████████████████████████████████████████████████████| 749/749 [00:02<00:00, 324.63it/s]\n",
      "Create slideshow:   7%|████▍                                                         | 54/749 [00:00<00:02, 263.24it/s]"
     ]
    },
    {
     "name": "stdout",
     "output_type": "stream",
     "text": [
      "Num random : 0/750\n",
      "func:'create_slideshow' took: 2.3228 sec\n",
      "Score : 643\n",
      "1000 photos caught.\n",
      "func:'form_slides' took: 0.0156 sec\n",
      "Num slides : 750\n"
     ]
    },
    {
     "name": "stderr",
     "output_type": "stream",
     "text": [
      "Create slideshow: 100%|█████████████████████████████████████████████████████████████| 749/749 [00:02<00:00, 323.72it/s]\n",
      "Create slideshow:   3%|██▏                                                           | 26/749 [00:00<00:02, 259.10it/s]"
     ]
    },
    {
     "name": "stdout",
     "output_type": "stream",
     "text": [
      "Num random : 0/750\n",
      "func:'create_slideshow' took: 2.3137 sec\n",
      "Score : 669\n",
      "1000 photos caught.\n",
      "func:'form_slides' took: 0.0156 sec\n",
      "Num slides : 750\n"
     ]
    },
    {
     "name": "stderr",
     "output_type": "stream",
     "text": [
      "Create slideshow: 100%|█████████████████████████████████████████████████████████████| 749/749 [00:02<00:00, 339.51it/s]\n",
      "Create slideshow:   3%|█▉                                                            | 24/749 [00:00<00:03, 239.24it/s]"
     ]
    },
    {
     "name": "stdout",
     "output_type": "stream",
     "text": [
      "Num random : 0/750\n",
      "func:'create_slideshow' took: 2.2061 sec\n",
      "Score : 668\n",
      "1000 photos caught.\n",
      "func:'form_slides' took: 0.0156 sec\n",
      "Num slides : 750\n"
     ]
    },
    {
     "name": "stderr",
     "output_type": "stream",
     "text": [
      "Create slideshow: 100%|█████████████████████████████████████████████████████████████| 749/749 [00:02<00:00, 325.20it/s]\n",
      "Create slideshow:   3%|█▉                                                            | 24/749 [00:00<00:03, 239.06it/s]"
     ]
    },
    {
     "name": "stdout",
     "output_type": "stream",
     "text": [
      "Num random : 0/750\n",
      "func:'create_slideshow' took: 2.3053 sec\n",
      "Score : 614\n",
      "1000 photos caught.\n",
      "func:'form_slides' took: 0.0156 sec\n",
      "Num slides : 750\n"
     ]
    },
    {
     "name": "stderr",
     "output_type": "stream",
     "text": [
      "Create slideshow: 100%|█████████████████████████████████████████████████████████████| 749/749 [00:02<00:00, 318.28it/s]\n",
      "Create slideshow:   5%|███                                                           | 37/749 [00:00<00:01, 368.83it/s]"
     ]
    },
    {
     "name": "stdout",
     "output_type": "stream",
     "text": [
      "Num random : 0/750\n",
      "func:'create_slideshow' took: 2.3588 sec\n",
      "Score : 659\n",
      "1000 photos caught.\n",
      "func:'form_slides' took: 0.0000 sec\n",
      "Num slides : 750\n"
     ]
    },
    {
     "name": "stderr",
     "output_type": "stream",
     "text": [
      "Create slideshow: 100%|█████████████████████████████████████████████████████████████| 749/749 [00:02<00:00, 370.55it/s]\n",
      "Create slideshow:   6%|███▉                                                          | 48/749 [00:00<00:02, 248.02it/s]"
     ]
    },
    {
     "name": "stdout",
     "output_type": "stream",
     "text": [
      "Num random : 0/750\n",
      "func:'create_slideshow' took: 2.0213 sec\n",
      "Score : 663\n",
      "1000 photos caught.\n",
      "func:'form_slides' took: 0.0000 sec\n",
      "Num slides : 750\n"
     ]
    },
    {
     "name": "stderr",
     "output_type": "stream",
     "text": [
      "Create slideshow: 100%|█████████████████████████████████████████████████████████████| 749/749 [00:02<00:00, 310.45it/s]\n",
      "Create slideshow:  12%|███████▎                                                      | 88/749 [00:00<00:01, 375.41it/s]"
     ]
    },
    {
     "name": "stdout",
     "output_type": "stream",
     "text": [
      "Num random : 0/750\n",
      "func:'create_slideshow' took: 2.4126 sec\n",
      "Score : 648\n",
      "1000 photos caught.\n",
      "func:'form_slides' took: 0.0000 sec\n",
      "Num slides : 750\n"
     ]
    },
    {
     "name": "stderr",
     "output_type": "stream",
     "text": [
      "Create slideshow: 100%|█████████████████████████████████████████████████████████████| 749/749 [00:02<00:00, 350.58it/s]\n",
      "Create slideshow:   8%|████▊                                                         | 58/749 [00:00<00:02, 290.83it/s]"
     ]
    },
    {
     "name": "stdout",
     "output_type": "stream",
     "text": [
      "Num random : 0/750\n",
      "func:'create_slideshow' took: 2.1522 sec\n",
      "Score : 649\n",
      "1000 photos caught.\n",
      "func:'form_slides' took: 0.0000 sec\n",
      "Num slides : 750\n"
     ]
    },
    {
     "name": "stderr",
     "output_type": "stream",
     "text": [
      "Create slideshow: 100%|█████████████████████████████████████████████████████████████| 749/749 [00:02<00:00, 325.72it/s]\n",
      "Create slideshow:   7%|████▌                                                         | 55/749 [00:00<00:02, 285.89it/s]"
     ]
    },
    {
     "name": "stdout",
     "output_type": "stream",
     "text": [
      "Num random : 0/750\n",
      "func:'create_slideshow' took: 2.3060 sec\n",
      "Score : 647\n",
      "1000 photos caught.\n",
      "func:'form_slides' took: 0.0000 sec\n",
      "Num slides : 750\n"
     ]
    },
    {
     "name": "stderr",
     "output_type": "stream",
     "text": [
      "Create slideshow: 100%|█████████████████████████████████████████████████████████████| 749/749 [00:02<00:00, 322.18it/s]\n",
      "Create slideshow:   4%|██▍                                                           | 29/749 [00:00<00:02, 257.81it/s]"
     ]
    },
    {
     "name": "stdout",
     "output_type": "stream",
     "text": [
      "Num random : 0/750\n",
      "func:'create_slideshow' took: 2.3248 sec\n",
      "Score : 674\n",
      "1000 photos caught.\n",
      "func:'form_slides' took: 0.0156 sec\n",
      "Num slides : 750\n"
     ]
    },
    {
     "name": "stderr",
     "output_type": "stream",
     "text": [
      "Create slideshow: 100%|█████████████████████████████████████████████████████████████| 749/749 [00:02<00:00, 294.61it/s]\n",
      "Create slideshow:   9%|█████▋                                                        | 68/749 [00:00<00:01, 351.38it/s]"
     ]
    },
    {
     "name": "stdout",
     "output_type": "stream",
     "text": [
      "Num random : 0/750\n",
      "func:'create_slideshow' took: 2.5423 sec\n",
      "Score : 641\n",
      "1000 photos caught.\n",
      "func:'form_slides' took: 0.0000 sec\n",
      "Num slides : 750\n"
     ]
    },
    {
     "name": "stderr",
     "output_type": "stream",
     "text": [
      "Create slideshow: 100%|█████████████████████████████████████████████████████████████| 749/749 [00:02<00:00, 314.10it/s]\n",
      "Create slideshow:   4%|██▋                                                           | 33/749 [00:00<00:02, 329.01it/s]"
     ]
    },
    {
     "name": "stdout",
     "output_type": "stream",
     "text": [
      "Num random : 0/750\n",
      "func:'create_slideshow' took: 2.3911 sec\n",
      "Score : 661\n",
      "1000 photos caught.\n",
      "func:'form_slides' took: 0.0000 sec\n",
      "Num slides : 750\n"
     ]
    },
    {
     "name": "stderr",
     "output_type": "stream",
     "text": [
      "Create slideshow: 100%|█████████████████████████████████████████████████████████████| 749/749 [00:02<00:00, 313.25it/s]\n",
      "Create slideshow:   4%|██▌                                                           | 31/749 [00:00<00:02, 309.10it/s]"
     ]
    },
    {
     "name": "stdout",
     "output_type": "stream",
     "text": [
      "Num random : 0/750\n",
      "func:'create_slideshow' took: 2.3911 sec\n",
      "Score : 638\n",
      "1000 photos caught.\n",
      "func:'form_slides' took: 0.0156 sec\n",
      "Num slides : 750\n"
     ]
    },
    {
     "name": "stderr",
     "output_type": "stream",
     "text": [
      "Create slideshow: 100%|█████████████████████████████████████████████████████████████| 749/749 [00:02<00:00, 307.19it/s]\n",
      "Create slideshow:   4%|██▋                                                           | 32/749 [00:00<00:02, 318.96it/s]"
     ]
    },
    {
     "name": "stdout",
     "output_type": "stream",
     "text": [
      "Num random : 0/750\n",
      "func:'create_slideshow' took: 2.4383 sec\n",
      "Score : 647\n",
      "1000 photos caught.\n",
      "func:'form_slides' took: 0.0000 sec\n",
      "Num slides : 750\n"
     ]
    },
    {
     "name": "stderr",
     "output_type": "stream",
     "text": [
      "Create slideshow: 100%|█████████████████████████████████████████████████████████████| 749/749 [00:02<00:00, 294.26it/s]\n",
      "Create slideshow:   3%|█▊                                                            | 22/749 [00:00<00:03, 219.31it/s]"
     ]
    },
    {
     "name": "stdout",
     "output_type": "stream",
     "text": [
      "Num random : 0/750\n",
      "func:'create_slideshow' took: 2.5454 sec\n",
      "Score : 624\n",
      "1000 photos caught.\n",
      "func:'form_slides' took: 0.0156 sec\n",
      "Num slides : 750\n"
     ]
    },
    {
     "name": "stderr",
     "output_type": "stream",
     "text": [
      "Create slideshow: 100%|█████████████████████████████████████████████████████████████| 749/749 [00:02<00:00, 341.89it/s]\n",
      "Create slideshow:   5%|██▉                                                           | 35/749 [00:00<00:02, 346.91it/s]"
     ]
    },
    {
     "name": "stdout",
     "output_type": "stream",
     "text": [
      "Num random : 0/750\n",
      "func:'create_slideshow' took: 2.2064 sec\n",
      "Score : 630\n",
      "1000 photos caught.\n",
      "func:'form_slides' took: 0.0000 sec\n",
      "Num slides : 750\n"
     ]
    },
    {
     "name": "stderr",
     "output_type": "stream",
     "text": [
      "Create slideshow: 100%|█████████████████████████████████████████████████████████████| 749/749 [00:02<00:00, 331.73it/s]\n",
      "Create slideshow:   3%|█▉                                                            | 24/749 [00:00<00:03, 226.93it/s]"
     ]
    },
    {
     "name": "stdout",
     "output_type": "stream",
     "text": [
      "Num random : 0/750\n",
      "func:'create_slideshow' took: 2.2579 sec\n",
      "Score : 633\n",
      "1000 photos caught.\n",
      "func:'form_slides' took: 0.0000 sec\n",
      "Num slides : 750\n"
     ]
    },
    {
     "name": "stderr",
     "output_type": "stream",
     "text": [
      "Create slideshow: 100%|█████████████████████████████████████████████████████████████| 749/749 [00:02<00:00, 324.73it/s]\n",
      "Create slideshow:  10%|█████▉                                                        | 72/749 [00:00<00:02, 327.80it/s]"
     ]
    },
    {
     "name": "stdout",
     "output_type": "stream",
     "text": [
      "Num random : 0/750\n",
      "func:'create_slideshow' took: 2.3066 sec\n",
      "Score : 630\n",
      "1000 photos caught.\n",
      "func:'form_slides' took: 0.0065 sec\n",
      "Num slides : 750\n"
     ]
    },
    {
     "name": "stderr",
     "output_type": "stream",
     "text": [
      "Create slideshow: 100%|█████████████████████████████████████████████████████████████| 749/749 [00:02<00:00, 332.35it/s]"
     ]
    },
    {
     "name": "stdout",
     "output_type": "stream",
     "text": [
      "Num random : 0/750\n",
      "func:'create_slideshow' took: 2.2536 sec\n",
      "Score : 611\n"
     ]
    },
    {
     "name": "stderr",
     "output_type": "stream",
     "text": [
      "\n"
     ]
    }
   ],
   "source": [
    "constants = np.arange(0., 2., 0.1)\n",
    "scores = []\n",
    "for constant in constants:\n",
    "    ss = UCBSolution().run(filename, max_candidates=10, ucb_constant=constant)\n",
    "    scores.append(score_slideshow(ss))"
   ]
  },
  {
   "cell_type": "code",
   "execution_count": 8,
   "id": "6f4596b1-7309-458f-b295-eb86148b7b04",
   "metadata": {},
   "outputs": [
    {
     "data": {
      "text/plain": [
       "[<matplotlib.lines.Line2D at 0x1abf96b3f10>]"
      ]
     },
     "execution_count": 8,
     "metadata": {},
     "output_type": "execute_result"
    },
    {
     "data": {
      "image/png": "[encoded data removed]",
      "text/plain": [
       "<Figure size 432x288 with 1 Axes>"
      ]
     },
     "metadata": {
      "needs_background": "light"
     },
     "output_type": "display_data"
    }
   ],
   "source": [
    "plt.plot(constants, scores)"
   ]
  },
  {
   "cell_type": "code",
   "execution_count": 9,
   "id": "8becf4c2-e894-46b4-b1ea-5f471dd1431a",
   "metadata": {},
   "outputs": [
    {
     "name": "stderr",
     "output_type": "stream",
     "text": [
      "Bar desc: 100%|███████████████████████████████████████████████████████████████████| 749/749 [00:00<00:00, 19818.03it/s]"
     ]
    },
    {
     "name": "stdout",
     "output_type": "stream",
     "text": [
      "1000 photos caught.\n",
      "func:'form_slides' took: 0.0000 sec\n",
      "Num slides : 750\n",
      "Num random : 0/750\n",
      "func:'create_slideshow' took: 0.0378 sec\n",
      "Score : 708\n"
     ]
    },
    {
     "name": "stderr",
     "output_type": "stream",
     "text": [
      "\n"
     ]
    }
   ],
   "source": [
    "slideshow_greedy = GreedySolution().run(filename, max_candidates=10)"
   ]
  },
  {
   "cell_type": "code",
   "execution_count": 14,
   "id": "35e44546-e645-4b49-bd2c-88eecd48e176",
   "metadata": {},
   "outputs": [
    {
     "name": "stderr",
     "output_type": "stream",
     "text": [
      "Create slideshow:   7%|████▌                                                         | 55/749 [00:00<00:02, 273.89it/s]"
     ]
    },
    {
     "name": "stdout",
     "output_type": "stream",
     "text": [
      "1000 photos caught.\n",
      "func:'form_slides' took: 0.0054 sec\n",
      "Num slides : 750\n"
     ]
    },
    {
     "name": "stderr",
     "output_type": "stream",
     "text": [
      "Create slideshow: 100%|█████████████████████████████████████████████████████████████| 749/749 [00:02<00:00, 338.72it/s]"
     ]
    },
    {
     "name": "stdout",
     "output_type": "stream",
     "text": [
      "Num random : 0/750\n",
      "func:'create_slideshow' took: 2.2156 sec\n",
      "Score : 652\n"
     ]
    },
    {
     "name": "stderr",
     "output_type": "stream",
     "text": [
      "\n"
     ]
    }
   ],
   "source": [
    "slideshow_ucb = UCBSolution().run(filename, max_candidates=10, ucb_constant=1.)"
   ]
  },
  {
   "cell_type": "code",
   "execution_count": 15,
   "id": "0f1f24ea-f68f-4cfe-9115-e31447ee6f78",
   "metadata": {},
   "outputs": [
    {
     "name": "stderr",
     "output_type": "stream",
     "text": [
      "100%|█████████████████████████████████████████████████████████████████████████████████| 10/10 [00:00<00:00, 115.48it/s]"
     ]
    },
    {
     "name": "stdout",
     "output_type": "stream",
     "text": [
      "1000 photos caught.\n",
      "func:'form_slides' took: 0.0032 sec\n",
      "All scores : [142, 123, 134, 130, 125, 137, 141, 139, 123, 136]\n",
      "func:'create_slideshow' took: 0.0877 sec\n",
      "Score : 142\n"
     ]
    },
    {
     "name": "stderr",
     "output_type": "stream",
     "text": [
      "\n"
     ]
    }
   ],
   "source": [
    "slideshow_random = RandomSolution().run(filename, num_iters=10)"
   ]
  },
  {
   "cell_type": "code",
   "execution_count": 16,
   "id": "9a76167f-1960-4d17-a7bd-8f801f5de10d",
   "metadata": {},
   "outputs": [
    {
     "data": {
      "image/png": "[encoded data removed]",
      "text/plain": [
       "<Figure size 1080x360 with 1 Axes>"
      ]
     },
     "metadata": {
      "needs_background": "light"
     },
     "output_type": "display_data"
    }
   ],
   "source": [
    "cum_scores_ucb = np.cumsum(slideshow_ucb.scores)\n",
    "cum_scores_greedy = np.cumsum(slideshow_greedy.scores)\n",
    "cum_scores_random = np.cumsum(slideshow_random.scores)\n",
    "\n",
    "_, ax = plt.subplots(1, 1, figsize=(15, 5))\n",
    "ax.plot(range(0, len(cum_scores_ucb)), cum_scores_ucb, label='UCB')\n",
    "ax.plot(range(0, len(cum_scores_greedy)), cum_scores_greedy, label='Greedy')\n",
    "ax.plot(range(0, len(cum_scores_random)), cum_scores_random, label='Random')\n",
    "ax.set_title(f\"Cumulative scores - {os.path.basename(filename)}\")\n",
    "ax.set_ylabel(\"Score\")\n",
    "ax.set_xlabel('Slides added')\n",
    "ax.legend();"
   ]
  },
  {
   "cell_type": "code",
   "execution_count": 16,
   "id": "77194160-dbb2-408c-aff4-c4a1d11871a7",
   "metadata": {},
   "outputs": [],
   "source": [
    "filename = \"../data/d_pet_pictures.txt\""
   ]
  },
  {
   "cell_type": "code",
   "execution_count": 8,
   "id": "7eb3c53b-cb88-44a3-9a1f-eb6f5372ba47",
   "metadata": {},
   "outputs": [
    {
     "name": "stdout",
     "output_type": "stream",
     "text": [
      "90000 photos caught.\n"
     ]
    },
    {
     "name": "stderr",
     "output_type": "stream",
     "text": [
      "Bar desc:   1%|▍                                                                 | 341/59999 [00:00<00:38, 1565.07it/s]"
     ]
    },
    {
     "name": "stdout",
     "output_type": "stream",
     "text": [
      "func:'form_slides' took: 0.6402 sec\n",
      "Num slides : 60000\n"
     ]
    },
    {
     "name": "stderr",
     "output_type": "stream",
     "text": [
      "Bar desc: 100%|████████████████████████████████████████████████████████████████| 59999/59999 [00:13<00:00, 4454.15it/s]\n"
     ]
    },
    {
     "name": "stdout",
     "output_type": "stream",
     "text": [
      "Num random : 0/60000\n",
      "func:'create_slideshow' took: 13.5257 sec\n",
      "Score : 320252\n"
     ]
    }
   ],
   "source": [
    "slideshow_greedy = GreedySolution().run(filename, max_candidates=10)"
   ]
  },
  {
   "cell_type": "code",
   "execution_count": 9,
   "id": "1524e4f1-1c03-412e-93ce-251ee21a167c",
   "metadata": {},
   "outputs": [
    {
     "name": "stdout",
     "output_type": "stream",
     "text": [
      "90000 photos caught.\n"
     ]
    },
    {
     "name": "stderr",
     "output_type": "stream",
     "text": [
      "Create slideshow:   0%|                                                              | 8/59999 [00:00<12:36, 79.30it/s]"
     ]
    },
    {
     "name": "stdout",
     "output_type": "stream",
     "text": [
      "func:'form_slides' took: 0.8745 sec\n",
      "Num slides : 60000\n"
     ]
    },
    {
     "name": "stderr",
     "output_type": "stream",
     "text": [
      "Create slideshow: 100%|█████████████████████████████████████████████████████████| 59999/59999 [08:13<00:00, 121.56it/s]\n"
     ]
    },
    {
     "name": "stdout",
     "output_type": "stream",
     "text": [
      "Num random : 0/60000\n",
      "func:'create_slideshow' took: 493.6192 sec\n",
      "Score : 270370\n"
     ]
    }
   ],
   "source": [
    "slideshow_ucb = UCBSolution().run(filename, max_candidates=10)"
   ]
  },
  {
   "cell_type": "code",
   "execution_count": 17,
   "id": "dd9673db-4bbd-4b2d-845d-12b4bdd8941b",
   "metadata": {},
   "outputs": [
    {
     "name": "stdout",
     "output_type": "stream",
     "text": [
      "90000 photos caught.\n"
     ]
    },
    {
     "name": "stderr",
     "output_type": "stream",
     "text": [
      "  0%|                                                                                           | 0/10 [00:00<?, ?it/s]"
     ]
    },
    {
     "name": "stdout",
     "output_type": "stream",
     "text": [
      "func:'form_slides' took: 1.6672 sec\n"
     ]
    },
    {
     "name": "stderr",
     "output_type": "stream",
     "text": [
      "100%|██████████████████████████████████████████████████████████████████████████████████| 10/10 [00:09<00:00,  1.11it/s]\n"
     ]
    },
    {
     "name": "stdout",
     "output_type": "stream",
     "text": [
      "All scores : [173917, 174035, 174291, 174323, 173972, 174633, 174314, 174298, 173974, 174502]\n",
      "func:'create_slideshow' took: 9.0307 sec\n",
      "Score : 174633\n"
     ]
    }
   ],
   "source": [
    "slideshow_random = RandomSolution().run(filename, num_iters=10)"
   ]
  },
  {
   "cell_type": "code",
   "execution_count": 18,
   "id": "ea8ae3d2-cfad-41b4-b14b-223363f0d301",
   "metadata": {},
   "outputs": [
    {
     "data": {
      "image/png": "[encoded data removed]",
      "text/plain": [
       "<Figure size 1080x360 with 1 Axes>"
      ]
     },
     "metadata": {
      "needs_background": "light"
     },
     "output_type": "display_data"
    }
   ],
   "source": [
    "cum_scores_ucb = np.cumsum(slideshow_ucb.scores)\n",
    "cum_scores_greedy = np.cumsum(slideshow_greedy.scores)\n",
    "cum_scores_random = np.cumsum(slideshow_random.scores)\n",
    "\n",
    "_, ax = plt.subplots(1, 1, figsize=(15, 5))\n",
    "ax.plot(range(0, len(cum_scores_ucb)), cum_scores_ucb, label='UCB')\n",
    "ax.plot(range(0, len(cum_scores_greedy)), cum_scores_greedy, label='Greedy')\n",
    "ax.plot(range(0, len(cum_scores_random)), cum_scores_random, label='Random')\n",
    "ax.set_title(f\"Cumulative scores - {os.path.basename(filename)}\")\n",
    "ax.set_ylabel(\"Score\")\n",
    "ax.set_xlabel('Slides added')\n",
    "ax.legend();"
   ]
  },
  {
   "cell_type": "code",
   "execution_count": null,
   "id": "3b5edd86-283f-4888-a6d6-b9262051413e",
   "metadata": {},
   "outputs": [],
   "source": []
  }
 ],
 "metadata": {
  "kernelspec": {
   "display_name": "datascience",
   "language": "python",
   "name": "datascience"
  },
  "language_info": {
   "codemirror_mode": {
    "name": "ipython",
    "version": 3
   },
   "file_extension": ".py",
   "mimetype": "text/x-python",
   "name": "python",
   "nbconvert_exporter": "python",
   "pygments_lexer": "ipython3",
   "version": "3.8.5"
  }
 },
 "nbformat": 4,
 "nbformat_minor": 5
}
